{
 "cells": [
  {
   "cell_type": "code",
   "execution_count": 5,
   "metadata": {
    "collapsed": false
   },
   "outputs": [
    {
     "name": "stdout",
     "output_type": "stream",
     "text": [
      "10001111\n",
      "01000000\n",
      "10001111\n",
      "1000000\n",
      "143\n",
      "64\n",
      "0b10001111\n",
      "0b1000000\n"
     ]
    }
   ],
   "source": [
    "a = \"10001111\"\n",
    "b = \"01000000\"\n",
    "\n",
    "print a\n",
    "print b\n",
    "\n",
    "# 10進数\n",
    "print int(a)\n",
    "print int(b)\n",
    "\n",
    "# 2進数\n",
    "binary_a = int(a, 2)\n",
    "binary_b = int(b, 2)\n",
    "print binary_a\n",
    "print binary_b\n",
    "\n",
    "s_a = bin(binary_a)\n",
    "s_b = bin(binary_b)\n",
    "print s_a\n",
    "print s_b\n"
   ]
  },
  {
   "cell_type": "code",
   "execution_count": null,
   "metadata": {
    "collapsed": true
   },
   "outputs": [],
   "source": []
  }
 ],
 "metadata": {
  "kernelspec": {
   "display_name": "Python 2",
   "language": "python",
   "name": "python2"
  },
  "language_info": {
   "codemirror_mode": {
    "name": "ipython",
    "version": 2
   },
   "file_extension": ".py",
   "mimetype": "text/x-python",
   "name": "python",
   "nbconvert_exporter": "python",
   "pygments_lexer": "ipython2",
   "version": "2.7.12"
  }
 },
 "nbformat": 4,
 "nbformat_minor": 0
}
